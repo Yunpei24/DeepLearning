{
  "nbformat": 4,
  "nbformat_minor": 0,
  "metadata": {
    "colab": {
      "provenance": [],
      "authorship_tag": "ABX9TyMw0SOQN3ORAbbB+LWs9es+",
      "include_colab_link": true
    },
    "kernelspec": {
      "name": "python3",
      "display_name": "Python 3"
    },
    "language_info": {
      "name": "python"
    }
  },
  "cells": [
    {
      "cell_type": "markdown",
      "metadata": {
        "id": "view-in-github",
        "colab_type": "text"
      },
      "source": [
        "<a href=\"https://colab.research.google.com/github/Yunpei24/DeepLearning/blob/main/MonpremierReseauNeuronal.ipynb\" target=\"_parent\"><img src=\"https://colab.research.google.com/assets/colab-badge.svg\" alt=\"Open In Colab\"/></a>"
      ]
    },
    {
      "cell_type": "markdown",
      "source": [
        "Par l'algorithme de la descente du Gradiant"
      ],
      "metadata": {
        "id": "zw-OHUecjvWq"
      }
    },
    {
      "cell_type": "markdown",
      "source": [
        "*   A= fonction d'activation ici c'est la fonction sigmoide\n",
        "*   Z= fonction linéaire, fonction de prédiction\n",
        "*   W= poids affecté à chaque entrée\n",
        "*    \n"
      ],
      "metadata": {
        "id": "x1BdYc0O38xB"
      }
    },
    {
      "cell_type": "code",
      "source": [
        "import numpy as np\n",
        "import matplotlib.pyplot as plt\n",
        "from sklearn.datasets import make_blobs\n",
        "from sklearn.metrics import accuracy_score"
      ],
      "metadata": {
        "id": "NRFR6oTCjtP7"
      },
      "execution_count": 89,
      "outputs": []
    },
    {
      "cell_type": "code",
      "source": [
        "X, y = make_blobs(n_samples=100, n_features=2, centers=2, random_state=0)\n",
        "y = y.reshape((y.shape[0], 1))\n",
        "\n",
        "print(\"dimension de X:\", X.shape)\n",
        "print(\"dimension de y:\", y.shape)\n",
        "\n",
        "plt.scatter(X[:,0], X[:, 1], c=y, cmap='summer')\n",
        "plt.show()"
      ],
      "metadata": {
        "colab": {
          "base_uri": "https://localhost:8080/",
          "height": 300
        },
        "id": "9tj3-tQ1kqos",
        "outputId": "2b5bc26b-b575-4e44-cf19-a350b04a216b"
      },
      "execution_count": 90,
      "outputs": [
        {
          "output_type": "stream",
          "name": "stdout",
          "text": [
            "dimension de X: (100, 2)\n",
            "dimension de y: (100, 1)\n"
          ]
        },
        {
          "output_type": "display_data",
          "data": {
            "text/plain": [
              "<Figure size 432x288 with 1 Axes>"
            ],
            "image/png": "[encoded data removed]"
          },
          "metadata": {
            "needs_background": "light"
          }
        }
      ]
    },
    {
      "cell_type": "code",
      "source": [
        "# fonction d'initialisation\n",
        "def initialisation(X):\n",
        "  W = np.random.randn(X.shape[1], 1)\n",
        "  b = np.random.randn(1)\n",
        "  return (W, b)"
      ],
      "metadata": {
        "id": "MSwdT12jnD3O"
      },
      "execution_count": 91,
      "outputs": []
    },
    {
      "cell_type": "code",
      "source": [
        "#Fonction modèle\n",
        "def model(X, W, b):\n",
        "  Z = X.dot(W) + b  # (matrice X)*(matrice W)\n",
        "  A = 1 / (1 + np.exp(-Z))\n",
        "  return A"
      ],
      "metadata": {
        "id": "sqsyAQaOodCn"
      },
      "execution_count": 92,
      "outputs": []
    },
    {
      "cell_type": "code",
      "source": [
        "# Fonction Cout\n",
        "def log_loss(A, y):\n",
        "  return 1 / len(y) * np.sum(-y*np.log(A)-(1 - y)*np.log(1 - A))"
      ],
      "metadata": {
        "id": "4jIZEoEYoopc"
      },
      "execution_count": 93,
      "outputs": []
    },
    {
      "cell_type": "markdown",
      "source": [
        "np.dot(Matrices) est utilisée pour effectuer une multiplication matricielle en Python"
      ],
      "metadata": {
        "id": "gZvX0c6PrfPL"
      }
    },
    {
      "cell_type": "code",
      "source": [
        "def gradients(A, X, y):\n",
        "  dW = 1 / len(y) * np.dot(X.T, A - y) # X.T est la transposée de X\n",
        "  db = 1 / len(y) * np.sum(A - y)\n",
        "  return (dW, db)"
      ],
      "metadata": {
        "id": "uxsNFjCdplfN"
      },
      "execution_count": 94,
      "outputs": []
    },
    {
      "cell_type": "code",
      "source": [
        "def update(dW, db, W, b, learning_rate):\n",
        "  W = W - learning_rate * dW\n",
        "  b = b - learning_rate * db\n",
        "  return (W, b)"
      ],
      "metadata": {
        "id": "0vPtSPC41zli"
      },
      "execution_count": 95,
      "outputs": []
    },
    {
      "cell_type": "code",
      "source": [
        "def predict(X, W, b):\n",
        "  A = model(X, W, b)\n",
        "  print(A)\n",
        "  return A >= 0.5"
      ],
      "metadata": {
        "id": "9dDN8f6h9efv"
      },
      "execution_count": 96,
      "outputs": []
    },
    {
      "cell_type": "code",
      "source": [
        "def artificial_neuron(X, y, learning_rate=0.1, nbre_iteration=100):\n",
        "  #initialisation de W et b\n",
        "  W, b = initialisation(X)\n",
        "  #historique = [] #sauvegarder toute l'historique de l'apprentissage\n",
        "  Loss = [] # facultatif\n",
        "\n",
        "  for i in range(nbre_iteration):\n",
        "    A = model(X, W, b)\n",
        "    Loss.append(log_loss(A, y))\n",
        "    dW, db = gradients(A, X, y)\n",
        "    W, b = update(dW, db, W, b, learning_rate)\n",
        "    #historique.append([W, b, Loss, i])\n",
        "\n",
        "  y_predict = predict(X, W, b)\n",
        "  print(\"Performance du modèle: \", accuracy_score(y, y_predict))\n",
        "  \n",
        "  plt.plot(Loss)\n",
        "  plt.show()\n",
        "\n",
        "  #return historique\n",
        "  return (W, b)"
      ],
      "metadata": {
        "id": "i2KWQ5vP178M"
      },
      "execution_count": 101,
      "outputs": []
    },
    {
      "cell_type": "code",
      "source": [
        "W, b = artificial_neuron(X, y)"
      ],
      "metadata": {
        "id": "lEEFTo0j81nv"
      },
      "execution_count": null,
      "outputs": []
    },
    {
      "cell_type": "code",
      "source": [
        "new_plant = np.array([2, 1])\n",
        "\n",
        "x0 = np.linspace(-1, 4, 100)\n",
        "x1 = (-W[0] * x0 - b) / W[1]\n",
        "\n",
        "plt.scatter(X[:,0], X[:, 1], c=y, cmap='summer')\n",
        "plt.scatter(new_plant[0], new_plant[1], c='r')\n",
        "plt.plot(x0, x1, c='orange', lw=3)\n",
        "plt.show()\n",
        "\n",
        "predict(new_plant, W, b)"
      ],
      "metadata": {
        "id": "66o6zS0686Eh",
        "colab": {
          "base_uri": "https://localhost:8080/",
          "height": 300
        },
        "outputId": "be67d1fa-0ba2-4d49-9911-21de3f68a33f"
      },
      "execution_count": 99,
      "outputs": [
        {
          "output_type": "display_data",
          "data": {
            "text/plain": [
              "<Figure size 432x288 with 1 Axes>"
            ],
            "image/png": "[encoded data removed]"
          },
          "metadata": {
            "needs_background": "light"
          }
        },
        {
          "output_type": "stream",
          "name": "stdout",
          "text": [
            "[0.9060714]\n"
          ]
        },
        {
          "output_type": "execute_result",
          "data": {
            "text/plain": [
              "array([ True])"
            ]
          },
          "metadata": {},
          "execution_count": 99
        }
      ]
    },
    {
      "cell_type": "code",
      "source": [],
      "metadata": {
        "id": "HxnhWps_B4bE"
      },
      "execution_count": 99,
      "outputs": []
    }
  ]
}